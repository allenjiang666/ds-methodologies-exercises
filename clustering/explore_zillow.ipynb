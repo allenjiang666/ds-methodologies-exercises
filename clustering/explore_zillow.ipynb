{
 "cells": [
  {
   "cell_type": "markdown",
   "metadata": {},
   "source": [
    "# Exploratory Exercise\n",
    "Create a python script or jupyter notebook named explore_zillow that does the following:\n",
    "\n",
    "1. Plot all continuous or numeric/ordered variables against each other in scatterplots, or through a pairplot.\n",
    "2. Plot a correlation matrix heatmap.\n",
    "3. Plot latitude agains longitude.\n",
    "4. Create a useable plot with 4 dimensions, e.g. x, y, color, size.\n",
    "5. Compute the mean(logerror) by zipcode and the overall mean(logerror). Write a loop that will run a t-test between the overall mean and the mean for each zip code. We want to identify the zip codes where the error is significantly higher or lower than the expected error.\n",
    "6. Is logerror significantly different for properties in LA County vs Orange County vs Ventura County?"
   ]
  },
  {
   "cell_type": "code",
   "execution_count": null,
   "metadata": {},
   "outputs": [],
   "source": []
  }
 ],
 "metadata": {
  "kernelspec": {
   "display_name": "Python 3",
   "language": "python",
   "name": "python3"
  },
  "language_info": {
   "codemirror_mode": {
    "name": "ipython",
    "version": 3
   },
   "file_extension": ".py",
   "mimetype": "text/x-python",
   "name": "python",
   "nbconvert_exporter": "python",
   "pygments_lexer": "ipython3",
   "version": "3.7.4"
  }
 },
 "nbformat": 4,
 "nbformat_minor": 2
}
